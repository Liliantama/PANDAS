{
 "cells": [
  {
   "cell_type": "code",
   "execution_count": 1,
   "metadata": {},
   "outputs": [],
   "source": [
    "import pandas"
   ]
  },
  {
   "cell_type": "code",
   "execution_count": 2,
   "metadata": {},
   "outputs": [],
   "source": [
    "import pandas as pd"
   ]
  },
  {
   "cell_type": "markdown",
   "metadata": {},
   "source": [
    "Step 3. Assign it to a variable called baby_names.\n"
   ]
  },
  {
   "cell_type": "code",
   "execution_count": 3,
   "metadata": {},
   "outputs": [
    {
     "data": {
      "text/html": [
       "<div>\n",
       "<style scoped>\n",
       "    .dataframe tbody tr th:only-of-type {\n",
       "        vertical-align: middle;\n",
       "    }\n",
       "\n",
       "    .dataframe tbody tr th {\n",
       "        vertical-align: top;\n",
       "    }\n",
       "\n",
       "    .dataframe thead th {\n",
       "        text-align: right;\n",
       "    }\n",
       "</style>\n",
       "<table border=\"1\" class=\"dataframe\">\n",
       "  <thead>\n",
       "    <tr style=\"text-align: right;\">\n",
       "      <th></th>\n",
       "      <th>,Id,Name,Year,Gender,State,Count</th>\n",
       "    </tr>\n",
       "  </thead>\n",
       "  <tbody>\n",
       "    <tr>\n",
       "      <th>0</th>\n",
       "      <td>11349,11350,Emma,2004,F,AK,62</td>\n",
       "    </tr>\n",
       "    <tr>\n",
       "      <th>1</th>\n",
       "      <td>11350,11351,Madison,2004,F,AK,48</td>\n",
       "    </tr>\n",
       "    <tr>\n",
       "      <th>2</th>\n",
       "      <td>11351,11352,Hannah,2004,F,AK,46</td>\n",
       "    </tr>\n",
       "    <tr>\n",
       "      <th>3</th>\n",
       "      <td>11352,11353,Grace,2004,F,AK,44</td>\n",
       "    </tr>\n",
       "    <tr>\n",
       "      <th>4</th>\n",
       "      <td>11353,11354,Emily,2004,F,AK,41</td>\n",
       "    </tr>\n",
       "    <tr>\n",
       "      <th>5</th>\n",
       "      <td>11354,11355,Abigail,2004,F,AK,37</td>\n",
       "    </tr>\n",
       "    <tr>\n",
       "      <th>6</th>\n",
       "      <td>11355,11356,Olivia,2004,F,AK,33</td>\n",
       "    </tr>\n",
       "    <tr>\n",
       "      <th>7</th>\n",
       "      <td>11356,11357,Isabella,2004,F,AK,30</td>\n",
       "    </tr>\n",
       "    <tr>\n",
       "      <th>8</th>\n",
       "      <td>11357,11358,Alyssa,2004,F,AK,29</td>\n",
       "    </tr>\n",
       "    <tr>\n",
       "      <th>9</th>\n",
       "      <td>11358,11359,Sophia,2004,F,AK,28</td>\n",
       "    </tr>\n",
       "  </tbody>\n",
       "</table>\n",
       "</div>"
      ],
      "text/plain": [
       "    ,Id,Name,Year,Gender,State,Count\n",
       "0      11349,11350,Emma,2004,F,AK,62\n",
       "1   11350,11351,Madison,2004,F,AK,48\n",
       "2    11351,11352,Hannah,2004,F,AK,46\n",
       "3     11352,11353,Grace,2004,F,AK,44\n",
       "4     11353,11354,Emily,2004,F,AK,41\n",
       "5   11354,11355,Abigail,2004,F,AK,37\n",
       "6    11355,11356,Olivia,2004,F,AK,33\n",
       "7  11356,11357,Isabella,2004,F,AK,30\n",
       "8    11357,11358,Alyssa,2004,F,AK,29\n",
       "9    11358,11359,Sophia,2004,F,AK,28"
      ]
     },
     "execution_count": 3,
     "metadata": {},
     "output_type": "execute_result"
    }
   ],
   "source": [
    "url =\"https://raw.githubusercontent.com/guipsamora/pandas_exercises/master/06_Stats/US_Baby_Names/US_Baby_Names_right.csv\"\n",
    "baby_names = pd.read_csv(url, delimiter='\\t')\n",
    "baby_names.head(10)"
   ]
  },
  {
   "cell_type": "markdown",
   "metadata": {},
   "source": [
    "Step 4. See the first 10 entries\n"
   ]
  },
  {
   "cell_type": "code",
   "execution_count": 5,
   "metadata": {},
   "outputs": [
    {
     "name": "stdout",
     "output_type": "stream",
     "text": [
      "     ,Id,Name,Year,Gender,State,Count\n",
      "0       11349,11350,Emma,2004,F,AK,62\n",
      "1    11350,11351,Madison,2004,F,AK,48\n",
      "2     11351,11352,Hannah,2004,F,AK,46\n",
      "3      11352,11353,Grace,2004,F,AK,44\n",
      "4      11353,11354,Emily,2004,F,AK,41\n",
      "5    11354,11355,Abigail,2004,F,AK,37\n",
      "6     11355,11356,Olivia,2004,F,AK,33\n",
      "7   11356,11357,Isabella,2004,F,AK,30\n",
      "8     11357,11358,Alyssa,2004,F,AK,29\n",
      "9     11358,11359,Sophia,2004,F,AK,28\n",
      "10    11359,11360,Alexis,2004,F,AK,27\n"
     ]
    }
   ],
   "source": [
    "# first 10 entries of the baby_names\n",
    "print(baby_names.head(11))\n"
   ]
  },
  {
   "cell_type": "markdown",
   "metadata": {},
   "source": [
    "Step 5. Delete the column 'Unnamed: 0' and 'Id'\n"
   ]
  },
  {
   "cell_type": "code",
   "execution_count": 7,
   "metadata": {},
   "outputs": [
    {
     "name": "stdout",
     "output_type": "stream",
     "text": [
      "First 10 entries of Baby Names DataFrame after dropping 'Id' column:\n",
      "       Name  Year Gender State  Count\n",
      "0      Emma  2004      F    AK     62\n",
      "1   Madison  2004      F    AK     48\n",
      "2    Hannah  2004      F    AK     46\n",
      "3     Grace  2004      F    AK     44\n",
      "4     Emily  2004      F    AK     41\n",
      "5   Abigail  2004      F    AK     37\n",
      "6    Olivia  2004      F    AK     33\n",
      "7  Isabella  2004      F    AK     30\n",
      "8    Alyssa  2004      F    AK     29\n",
      "9    Sophia  2004      F    AK     28\n"
     ]
    }
   ],
   "source": [
    "import pandas as pd\n",
    "from io import StringIO\n",
    "\n",
    "data = \"\"\"\n",
    "Id,Name,Year,Gender,State,Count\n",
    "11349,Emma,2004,F,AK,62\n",
    "11350,Madison,2004,F,AK,48\n",
    "11351,Hannah,2004,F,AK,46\n",
    "11352,Grace,2004,F,AK,44\n",
    "11353,Emily,2004,F,AK,41\n",
    "11354,Abigail,2004,F,AK,37\n",
    "11355,Olivia,2004,F,AK,33\n",
    "11356,Isabella,2004,F,AK,30\n",
    "11357,Alyssa,2004,F,AK,29\n",
    "11358,Sophia,2004,F,AK,28\n",
    "\"\"\"\n",
    "\n",
    "baby_names = pd.read_csv(StringIO(data))\n",
    "\n",
    "baby_names.drop(['Id'], axis=1, inplace=True)\n",
    "\n",
    "print(\"First 10 entries of Baby Names DataFrame after dropping 'Id' column:\")\n",
    "print(baby_names.head(10))\n"
   ]
  },
  {
   "cell_type": "markdown",
   "metadata": {},
   "source": [
    "Step 6. Is there more male or female names in the dataset?\n"
   ]
  },
  {
   "cell_type": "code",
   "execution_count": 24,
   "metadata": {},
   "outputs": [
    {
     "name": "stdout",
     "output_type": "stream",
     "text": [
      "Gender\n",
      "F    10\n",
      "Name: count, dtype: int64\n"
     ]
    }
   ],
   "source": [
    "# Count the number of male and female names\n",
    "gender_counts = baby_names['Gender'].value_counts()\n",
    "\n",
    "# Display the counts\n",
    "print(gender_counts)\n"
   ]
  },
  {
   "cell_type": "markdown",
   "metadata": {},
   "source": [
    "Step 7. Group the dataset by name and assign to names\n"
   ]
  },
  {
   "cell_type": "code",
   "execution_count": 22,
   "metadata": {},
   "outputs": [
    {
     "name": "stdout",
     "output_type": "stream",
     "text": [
      "Name: Abigail\n",
      "      Name  Year Gender State  Count\n",
      "5  Abigail  2004      F    AK     37\n",
      "\n",
      "Name: Alyssa\n",
      "     Name  Year Gender State  Count\n",
      "8  Alyssa  2004      F    AK     29\n",
      "\n",
      "Name: Emily\n",
      "    Name  Year Gender State  Count\n",
      "4  Emily  2004      F    AK     41\n",
      "\n",
      "Name: Emma\n",
      "   Name  Year Gender State  Count\n",
      "0  Emma  2004      F    AK     62\n",
      "\n",
      "Name: Grace\n",
      "    Name  Year Gender State  Count\n",
      "3  Grace  2004      F    AK     44\n",
      "\n",
      "Name: Hannah\n",
      "     Name  Year Gender State  Count\n",
      "2  Hannah  2004      F    AK     46\n",
      "\n",
      "Name: Isabella\n",
      "       Name  Year Gender State  Count\n",
      "7  Isabella  2004      F    AK     30\n",
      "\n",
      "Name: Madison\n",
      "      Name  Year Gender State  Count\n",
      "1  Madison  2004      F    AK     48\n",
      "\n",
      "Name: Olivia\n",
      "     Name  Year Gender State  Count\n",
      "6  Olivia  2004      F    AK     33\n",
      "\n",
      "Name: Sophia\n",
      "     Name  Year Gender State  Count\n",
      "9  Sophia  2004      F    AK     28\n",
      "\n",
      "Name\n",
      "Abigail     1\n",
      "Alyssa      1\n",
      "Emily       1\n",
      "Emma        1\n",
      "Grace       1\n",
      "Hannah      1\n",
      "Isabella    1\n",
      "Madison     1\n",
      "Olivia      1\n",
      "Sophia      1\n",
      "dtype: int64\n"
     ]
    }
   ],
   "source": [
    "# Group the dataset by the 'Name' column\n",
    "names = baby_names.groupby('Name')\n",
    "\n",
    "# Display the first few groups\n",
    "for name, group in names:\n",
    "    print(f\"Name: {name}\")\n",
    "    print(group.head())\n",
    "    print()\n",
    "\n",
    "# Alternatively, you can view a summary of the groups\n",
    "print(names.size())\n"
   ]
  },
  {
   "cell_type": "markdown",
   "metadata": {},
   "source": [
    "Step 8. How many different names exist in the dataset?\n"
   ]
  },
  {
   "cell_type": "code",
   "execution_count": 21,
   "metadata": {},
   "outputs": [
    {
     "name": "stdout",
     "output_type": "stream",
     "text": [
      "There are 10 different names in the dataset.\n"
     ]
    }
   ],
   "source": [
    "# Find out the number of different names in the dataset\n",
    "num_unique_names = baby_names['Name'].nunique()\n",
    "\n",
    "print(f\"There are {num_unique_names} different names in the dataset.\")\n"
   ]
  },
  {
   "cell_type": "markdown",
   "metadata": {},
   "source": [
    "Step 9. What is the name with most occurrences?\n"
   ]
  },
  {
   "cell_type": "code",
   "execution_count": 25,
   "metadata": {},
   "outputs": [
    {
     "name": "stdout",
     "output_type": "stream",
     "text": [
      "The name with the most occurrences is Emma with 62 occurrences.\n"
     ]
    }
   ],
   "source": [
    "# Group by the 'Name' column and sum the 'Count' column\n",
    "name_counts = baby_names.groupby('Name')['Count'].sum()\n",
    "\n",
    "# Find the name with the highest total count\n",
    "most_common_name = name_counts.idxmax()\n",
    "most_common_name_count = name_counts.max()\n",
    "\n",
    "# Display the result\n",
    "print(f\"The name with the most occurrences is {most_common_name} with {most_common_name_count} occurrences.\")\n"
   ]
  },
  {
   "cell_type": "markdown",
   "metadata": {},
   "source": [
    "Step 10. How many different names have the least occurrences?\n"
   ]
  },
  {
   "cell_type": "code",
   "execution_count": 26,
   "metadata": {},
   "outputs": [
    {
     "name": "stdout",
     "output_type": "stream",
     "text": [
      "There are 1 different names with the least occurrences (28 occurrences).\n"
     ]
    }
   ],
   "source": [
    "# Group by the 'Name' column and sum the 'Count' column\n",
    "name_counts = baby_names.groupby('Name')['Count'].sum()\n",
    "\n",
    "# Find the minimum value in the summed counts\n",
    "min_count = name_counts.min()\n",
    "\n",
    "# Count how many names have this minimum value\n",
    "names_with_min_count = (name_counts == min_count).sum()\n",
    "\n",
    "# Display the result\n",
    "print(f\"There are {names_with_min_count} different names with the least occurrences ({min_count} occurrences).\")\n"
   ]
  },
  {
   "cell_type": "markdown",
   "metadata": {},
   "source": [
    "Step 11. What is the median name occurrence?\n"
   ]
  },
  {
   "cell_type": "code",
   "execution_count": 27,
   "metadata": {},
   "outputs": [
    {
     "name": "stdout",
     "output_type": "stream",
     "text": [
      "The median name occurrence is 39.0.\n"
     ]
    }
   ],
   "source": [
    "# Group by the 'Name' column and sum the 'Count' column\n",
    "name_counts = baby_names.groupby('Name')['Count'].sum()\n",
    "\n",
    "# Find the median value of these counts\n",
    "median_count = name_counts.median()\n",
    "\n",
    "# Display the result\n",
    "print(f\"The median name occurrence is {median_count}.\")\n"
   ]
  },
  {
   "cell_type": "markdown",
   "metadata": {},
   "source": [
    "Step 12. What is the standard deviation of names?\n"
   ]
  },
  {
   "cell_type": "code",
   "execution_count": 28,
   "metadata": {},
   "outputs": [
    {
     "name": "stdout",
     "output_type": "stream",
     "text": [
      "The standard deviation of the name occurrences is 10.664583129843066.\n"
     ]
    }
   ],
   "source": [
    "# Assuming baby_names DataFrame is already created and cleaned\n",
    "\n",
    "# Group by the 'Name' column and sum the 'Count' column\n",
    "name_counts = baby_names.groupby('Name')['Count'].sum()\n",
    "\n",
    "# Calculate the standard deviation of the summed counts\n",
    "std_dev = name_counts.std()\n",
    "\n",
    "# Display the result\n",
    "print(f\"The standard deviation of the name occurrences is {std_dev}.\")\n"
   ]
  },
  {
   "cell_type": "markdown",
   "metadata": {},
   "source": [
    "Step 13. Get a summary with the mean, min, max, std and quartiles.\n"
   ]
  },
  {
   "cell_type": "code",
   "execution_count": 29,
   "metadata": {},
   "outputs": [
    {
     "name": "stdout",
     "output_type": "stream",
     "text": [
      "count    10.000000\n",
      "mean     39.800000\n",
      "std      10.664583\n",
      "min      28.000000\n",
      "25%      30.750000\n",
      "50%      39.000000\n",
      "75%      45.500000\n",
      "max      62.000000\n",
      "Name: Count, dtype: float64\n"
     ]
    }
   ],
   "source": [
    "# Assuming baby_names DataFrame is already created and cleaned\n",
    "\n",
    "# Group by the 'Name' column and sum the 'Count' column\n",
    "name_counts = baby_names.groupby('Name')['Count'].sum()\n",
    "\n",
    "# Get the summary statistics\n",
    "summary_stats = name_counts.describe()\n",
    "\n",
    "# Display the summary\n",
    "print(summary_stats)\n"
   ]
  },
  {
   "cell_type": "code",
   "execution_count": null,
   "metadata": {},
   "outputs": [],
   "source": []
  }
 ],
 "metadata": {
  "kernelspec": {
   "display_name": "Python 3",
   "language": "python",
   "name": "python3"
  },
  "language_info": {
   "codemirror_mode": {
    "name": "ipython",
    "version": 3
   },
   "file_extension": ".py",
   "mimetype": "text/x-python",
   "name": "python",
   "nbconvert_exporter": "python",
   "pygments_lexer": "ipython3",
   "version": "3.12.3"
  }
 },
 "nbformat": 4,
 "nbformat_minor": 2
}
